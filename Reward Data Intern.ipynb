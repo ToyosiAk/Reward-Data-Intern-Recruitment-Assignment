{
 "cells": [
  {
   "cell_type": "markdown",
   "id": "4d103736-1c43-4739-9dba-0583baf897ba",
   "metadata": {},
   "source": [
    "# Reward Data Intern - Recruitment Assignment"
   ]
  },
  {
   "cell_type": "markdown",
   "id": "c374137a-80e9-4b21-971d-4e698f49264a",
   "metadata": {},
   "source": [
    "## Task 1"
   ]
  },
  {
   "cell_type": "code",
   "execution_count": 2,
   "id": "7fdee9c5-0376-48d2-ab13-ea930847c719",
   "metadata": {},
   "outputs": [],
   "source": [
    "import pandas as pd\n",
    "import numpy as np\n",
    "import matplotlib.pyplot as plt\n",
    "import seaborn as sns"
   ]
  },
  {
   "cell_type": "code",
   "execution_count": 3,
   "id": "f26c2eae-0eb9-4b5a-9551-26fb6cef1aab",
   "metadata": {},
   "outputs": [
    {
     "data": {
      "text/html": [
       "<div>\n",
       "<style scoped>\n",
       "    .dataframe tbody tr th:only-of-type {\n",
       "        vertical-align: middle;\n",
       "    }\n",
       "\n",
       "    .dataframe tbody tr th {\n",
       "        vertical-align: top;\n",
       "    }\n",
       "\n",
       "    .dataframe thead th {\n",
       "        text-align: right;\n",
       "    }\n",
       "</style>\n",
       "<table border=\"1\" class=\"dataframe\">\n",
       "  <thead>\n",
       "    <tr style=\"text-align: right;\">\n",
       "      <th></th>\n",
       "      <th>Unnamed: 0</th>\n",
       "      <th>Mentor_ID</th>\n",
       "      <th>Mentor_Name</th>\n",
       "      <th>Mentee_Name</th>\n",
       "      <th>Session_Number</th>\n",
       "      <th>Session_Duration_Min</th>\n",
       "      <th>Job_Info_Completed</th>\n",
       "      <th>Session_Date</th>\n",
       "      <th>Points_Awarded</th>\n",
       "    </tr>\n",
       "  </thead>\n",
       "  <tbody>\n",
       "    <tr>\n",
       "      <th>0</th>\n",
       "      <td>2001.0</td>\n",
       "      <td>1003.0</td>\n",
       "      <td>Sarah Clark</td>\n",
       "      <td>Bob Brown</td>\n",
       "      <td>1.0</td>\n",
       "      <td>40.0</td>\n",
       "      <td>Yes</td>\n",
       "      <td>2023-01-01</td>\n",
       "      <td>NaN</td>\n",
       "    </tr>\n",
       "    <tr>\n",
       "      <th>1</th>\n",
       "      <td>2002.0</td>\n",
       "      <td>1003.0</td>\n",
       "      <td>Emily Davis</td>\n",
       "      <td>Carol White</td>\n",
       "      <td>2.0</td>\n",
       "      <td>30.0</td>\n",
       "      <td>Yes</td>\n",
       "      <td>2023-01-08</td>\n",
       "      <td>NaN</td>\n",
       "    </tr>\n",
       "    <tr>\n",
       "      <th>2</th>\n",
       "      <td>2003.0</td>\n",
       "      <td>1005.0</td>\n",
       "      <td>James Wilson</td>\n",
       "      <td>Jane Smith</td>\n",
       "      <td>2.0</td>\n",
       "      <td>40.0</td>\n",
       "      <td>Yes</td>\n",
       "      <td>2023-01-15</td>\n",
       "      <td>NaN</td>\n",
       "    </tr>\n",
       "    <tr>\n",
       "      <th>3</th>\n",
       "      <td>4.0</td>\n",
       "      <td>1005.0</td>\n",
       "      <td>David Thompson</td>\n",
       "      <td>NaN</td>\n",
       "      <td>2.0</td>\n",
       "      <td>50.0</td>\n",
       "      <td>Yes</td>\n",
       "      <td>2023-01-22</td>\n",
       "      <td>NaN</td>\n",
       "    </tr>\n",
       "    <tr>\n",
       "      <th>4</th>\n",
       "      <td>2001.0</td>\n",
       "      <td>1004.0</td>\n",
       "      <td>Emily Davis</td>\n",
       "      <td>Bob Brown</td>\n",
       "      <td>1.0</td>\n",
       "      <td>30.0</td>\n",
       "      <td>No</td>\n",
       "      <td>2023-01-29</td>\n",
       "      <td>NaN</td>\n",
       "    </tr>\n",
       "    <tr>\n",
       "      <th>...</th>\n",
       "      <td>...</td>\n",
       "      <td>...</td>\n",
       "      <td>...</td>\n",
       "      <td>...</td>\n",
       "      <td>...</td>\n",
       "      <td>...</td>\n",
       "      <td>...</td>\n",
       "      <td>...</td>\n",
       "      <td>...</td>\n",
       "    </tr>\n",
       "    <tr>\n",
       "      <th>104</th>\n",
       "      <td>2002.0</td>\n",
       "      <td>1003.0</td>\n",
       "      <td>Michael Lee</td>\n",
       "      <td>Carol White</td>\n",
       "      <td>2.0</td>\n",
       "      <td>20.0</td>\n",
       "      <td>No</td>\n",
       "      <td>2024-08-04</td>\n",
       "      <td>NaN</td>\n",
       "    </tr>\n",
       "    <tr>\n",
       "      <th>105</th>\n",
       "      <td>54.0</td>\n",
       "      <td>1003.0</td>\n",
       "      <td>Michael Lee</td>\n",
       "      <td>Alice Johnson</td>\n",
       "      <td>2.0</td>\n",
       "      <td>30.0</td>\n",
       "      <td>Yes</td>\n",
       "      <td>2024-01-07</td>\n",
       "      <td>NaN</td>\n",
       "    </tr>\n",
       "    <tr>\n",
       "      <th>106</th>\n",
       "      <td>2003.0</td>\n",
       "      <td>1005.0</td>\n",
       "      <td>Michael Lee</td>\n",
       "      <td>Jane Smith</td>\n",
       "      <td>1.0</td>\n",
       "      <td>50.0</td>\n",
       "      <td>Yes</td>\n",
       "      <td>2024-05-05</td>\n",
       "      <td>NaN</td>\n",
       "    </tr>\n",
       "    <tr>\n",
       "      <th>107</th>\n",
       "      <td>46.0</td>\n",
       "      <td>1005.0</td>\n",
       "      <td>Michael Lee</td>\n",
       "      <td>Carol White</td>\n",
       "      <td>2.0</td>\n",
       "      <td>40.0</td>\n",
       "      <td>Yes</td>\n",
       "      <td>2023-11-12</td>\n",
       "      <td>NaN</td>\n",
       "    </tr>\n",
       "    <tr>\n",
       "      <th>108</th>\n",
       "      <td>45.0</td>\n",
       "      <td>1004.0</td>\n",
       "      <td>Michael Lee</td>\n",
       "      <td>Jane Smith</td>\n",
       "      <td>1.0</td>\n",
       "      <td>30.0</td>\n",
       "      <td>No</td>\n",
       "      <td>2023-11-05</td>\n",
       "      <td>NaN</td>\n",
       "    </tr>\n",
       "  </tbody>\n",
       "</table>\n",
       "<p>109 rows × 9 columns</p>\n",
       "</div>"
      ],
      "text/plain": [
       "     Unnamed: 0  Mentor_ID     Mentor_Name    Mentee_Name  Session_Number  \\\n",
       "0        2001.0     1003.0     Sarah Clark      Bob Brown             1.0   \n",
       "1        2002.0     1003.0     Emily Davis    Carol White             2.0   \n",
       "2        2003.0     1005.0    James Wilson     Jane Smith             2.0   \n",
       "3           4.0     1005.0  David Thompson            NaN             2.0   \n",
       "4        2001.0     1004.0     Emily Davis      Bob Brown             1.0   \n",
       "..          ...        ...             ...            ...             ...   \n",
       "104      2002.0     1003.0     Michael Lee    Carol White             2.0   \n",
       "105        54.0     1003.0     Michael Lee  Alice Johnson             2.0   \n",
       "106      2003.0     1005.0     Michael Lee     Jane Smith             1.0   \n",
       "107        46.0     1005.0     Michael Lee    Carol White             2.0   \n",
       "108        45.0     1004.0     Michael Lee     Jane Smith             1.0   \n",
       "\n",
       "     Session_Duration_Min Job_Info_Completed Session_Date  Points_Awarded  \n",
       "0                    40.0                Yes   2023-01-01             NaN  \n",
       "1                    30.0                Yes   2023-01-08             NaN  \n",
       "2                    40.0                Yes   2023-01-15             NaN  \n",
       "3                    50.0                Yes   2023-01-22             NaN  \n",
       "4                    30.0                 No   2023-01-29             NaN  \n",
       "..                    ...                ...          ...             ...  \n",
       "104                  20.0                 No   2024-08-04             NaN  \n",
       "105                  30.0                Yes   2024-01-07             NaN  \n",
       "106                  50.0                Yes   2024-05-05             NaN  \n",
       "107                  40.0                Yes   2023-11-12             NaN  \n",
       "108                  30.0                 No   2023-11-05             NaN  \n",
       "\n",
       "[109 rows x 9 columns]"
      ]
     },
     "execution_count": 3,
     "metadata": {},
     "output_type": "execute_result"
    }
   ],
   "source": [
    "# Loading dataset into a DataFrame\n",
    "df1 = pd.read_csv(r\"C:\\Users\\Toyosi\\Documents\\Sand Technologies\\_Data Sets Reward_Program_Assignment_Input_v6 - TA.xlsx - Mentorship_Sessions.csv\")\n",
    "df1"
   ]
  },
  {
   "cell_type": "code",
   "execution_count": 3,
   "id": "3f957b38-fc11-407f-b17f-f9727e5a405b",
   "metadata": {},
   "outputs": [
    {
     "name": "stdout",
     "output_type": "stream",
     "text": [
      "<class 'pandas.core.frame.DataFrame'>\n",
      "RangeIndex: 109 entries, 0 to 108\n",
      "Data columns (total 9 columns):\n",
      " #   Column                Non-Null Count  Dtype  \n",
      "---  ------                --------------  -----  \n",
      " 0   Unnamed: 0            108 non-null    float64\n",
      " 1   Mentor_ID             108 non-null    float64\n",
      " 2   Mentor_Name           109 non-null    object \n",
      " 3   Mentee_Name           107 non-null    object \n",
      " 4   Session_Number        108 non-null    float64\n",
      " 5   Session_Duration_Min  107 non-null    float64\n",
      " 6   Job_Info_Completed    108 non-null    object \n",
      " 7   Session_Date          108 non-null    object \n",
      " 8   Points_Awarded        0 non-null      float64\n",
      "dtypes: float64(5), object(4)\n",
      "memory usage: 7.8+ KB\n"
     ]
    }
   ],
   "source": [
    "# Collating information on the dataset\n",
    "df1.info()"
   ]
  },
  {
   "cell_type": "code",
   "execution_count": 4,
   "id": "559b60d3-1342-405e-88ce-1fef9303e090",
   "metadata": {},
   "outputs": [
    {
     "data": {
      "text/html": [
       "<div>\n",
       "<style scoped>\n",
       "    .dataframe tbody tr th:only-of-type {\n",
       "        vertical-align: middle;\n",
       "    }\n",
       "\n",
       "    .dataframe tbody tr th {\n",
       "        vertical-align: top;\n",
       "    }\n",
       "\n",
       "    .dataframe thead th {\n",
       "        text-align: right;\n",
       "    }\n",
       "</style>\n",
       "<table border=\"1\" class=\"dataframe\">\n",
       "  <thead>\n",
       "    <tr style=\"text-align: right;\">\n",
       "      <th></th>\n",
       "      <th>Unnamed: 0</th>\n",
       "      <th>Mentor_ID</th>\n",
       "      <th>Session_Number</th>\n",
       "      <th>Session_Duration_Min</th>\n",
       "      <th>Points_Awarded</th>\n",
       "    </tr>\n",
       "  </thead>\n",
       "  <tbody>\n",
       "    <tr>\n",
       "      <th>count</th>\n",
       "      <td>108.000000</td>\n",
       "      <td>108.000000</td>\n",
       "      <td>108.000000</td>\n",
       "      <td>107.000000</td>\n",
       "      <td>0.0</td>\n",
       "    </tr>\n",
       "    <tr>\n",
       "      <th>mean</th>\n",
       "      <td>1389.092593</td>\n",
       "      <td>1003.287037</td>\n",
       "      <td>1.481481</td>\n",
       "      <td>32.990654</td>\n",
       "      <td>NaN</td>\n",
       "    </tr>\n",
       "    <tr>\n",
       "      <th>std</th>\n",
       "      <td>909.079195</td>\n",
       "      <td>1.381121</td>\n",
       "      <td>0.501986</td>\n",
       "      <td>10.834514</td>\n",
       "      <td>NaN</td>\n",
       "    </tr>\n",
       "    <tr>\n",
       "      <th>min</th>\n",
       "      <td>4.000000</td>\n",
       "      <td>1001.000000</td>\n",
       "      <td>1.000000</td>\n",
       "      <td>20.000000</td>\n",
       "      <td>NaN</td>\n",
       "    </tr>\n",
       "    <tr>\n",
       "      <th>25%</th>\n",
       "      <td>83.000000</td>\n",
       "      <td>1002.000000</td>\n",
       "      <td>1.000000</td>\n",
       "      <td>20.000000</td>\n",
       "      <td>NaN</td>\n",
       "    </tr>\n",
       "    <tr>\n",
       "      <th>50%</th>\n",
       "      <td>2001.000000</td>\n",
       "      <td>1003.000000</td>\n",
       "      <td>1.000000</td>\n",
       "      <td>30.000000</td>\n",
       "      <td>NaN</td>\n",
       "    </tr>\n",
       "    <tr>\n",
       "      <th>75%</th>\n",
       "      <td>2002.000000</td>\n",
       "      <td>1004.000000</td>\n",
       "      <td>2.000000</td>\n",
       "      <td>40.000000</td>\n",
       "      <td>NaN</td>\n",
       "    </tr>\n",
       "    <tr>\n",
       "      <th>max</th>\n",
       "      <td>2006.000000</td>\n",
       "      <td>1005.000000</td>\n",
       "      <td>2.000000</td>\n",
       "      <td>50.000000</td>\n",
       "      <td>NaN</td>\n",
       "    </tr>\n",
       "  </tbody>\n",
       "</table>\n",
       "</div>"
      ],
      "text/plain": [
       "        Unnamed: 0    Mentor_ID  Session_Number  Session_Duration_Min  \\\n",
       "count   108.000000   108.000000      108.000000            107.000000   \n",
       "mean   1389.092593  1003.287037        1.481481             32.990654   \n",
       "std     909.079195     1.381121        0.501986             10.834514   \n",
       "min       4.000000  1001.000000        1.000000             20.000000   \n",
       "25%      83.000000  1002.000000        1.000000             20.000000   \n",
       "50%    2001.000000  1003.000000        1.000000             30.000000   \n",
       "75%    2002.000000  1004.000000        2.000000             40.000000   \n",
       "max    2006.000000  1005.000000        2.000000             50.000000   \n",
       "\n",
       "       Points_Awarded  \n",
       "count             0.0  \n",
       "mean              NaN  \n",
       "std               NaN  \n",
       "min               NaN  \n",
       "25%               NaN  \n",
       "50%               NaN  \n",
       "75%               NaN  \n",
       "max               NaN  "
      ]
     },
     "execution_count": 4,
     "metadata": {},
     "output_type": "execute_result"
    }
   ],
   "source": [
    "df1.describe()"
   ]
  },
  {
   "cell_type": "code",
   "execution_count": 5,
   "id": "96caf1cf-a93c-47d5-a8bf-1b9dedc6504b",
   "metadata": {},
   "outputs": [
    {
     "name": "stdout",
     "output_type": "stream",
     "text": [
      "<class 'pandas.core.frame.DataFrame'>\n",
      "Int64Index: 106 entries, 0 to 108\n",
      "Data columns (total 9 columns):\n",
      " #   Column                Non-Null Count  Dtype  \n",
      "---  ------                --------------  -----  \n",
      " 0   Unnamed: 0            106 non-null    float64\n",
      " 1   Mentor_ID             106 non-null    float64\n",
      " 2   Mentor_Name           106 non-null    object \n",
      " 3   Mentee_Name           106 non-null    object \n",
      " 4   Session_Number        106 non-null    float64\n",
      " 5   Session_Duration_Min  106 non-null    float64\n",
      " 6   Job_Info_Completed    106 non-null    object \n",
      " 7   Session_Date          106 non-null    object \n",
      " 8   Points_Awarded        0 non-null      float64\n",
      "dtypes: float64(5), object(4)\n",
      "memory usage: 8.3+ KB\n"
     ]
    }
   ],
   "source": [
    "# Dropping null values from columns   \n",
    "df1.dropna(subset = ['Mentee_Name', 'Session_Duration_Min'], inplace= True)\n",
    "df1.info()"
   ]
  },
  {
   "cell_type": "code",
   "execution_count": 6,
   "id": "4092f79d-47fd-4d0d-8e91-d292307d79ac",
   "metadata": {},
   "outputs": [
    {
     "data": {
      "text/plain": [
       "array([2001., 2002., 2003., 2004., 2005.,   13.,   16., 2006.,   22.,\n",
       "         24.,   25.,   28.,   30.,   34.,   19.,   38.,   39.,   41.,\n",
       "         44.,   55.,   62.,   64.,   65.,   68.,   70.,   71.,   74.,\n",
       "         75.,   80.,   84.,   85.,   89.,   90.,   96.,   98.,  100.,\n",
       "         54.,   46.,   45.])"
      ]
     },
     "execution_count": 6,
     "metadata": {},
     "output_type": "execute_result"
    }
   ],
   "source": [
    "# Finding all unique values in column\n",
    "df1['Unnamed: 0'].unique()"
   ]
  },
  {
   "cell_type": "code",
   "execution_count": 7,
   "id": "a0075fb5-061f-4bbf-a65b-47c741353056",
   "metadata": {},
   "outputs": [
    {
     "data": {
      "text/plain": [
       "array([  1.,   2.,   3.,   4.,   5.,  13.,  16.,   6.,  22.,  24.,  25.,\n",
       "        28.,  30.,  34.,  19.,  38.,  39.,  41.,  44.,  55.,  62.,  64.,\n",
       "        65.,  68.,  70.,  71.,  74.,  75.,  80.,  84.,  85.,  89.,  90.,\n",
       "        96.,  98., 100.,  54.,  46.,  45.])"
      ]
     },
     "execution_count": 7,
     "metadata": {},
     "output_type": "execute_result"
    }
   ],
   "source": [
    "# Correcting wrong entries in column\n",
    "df1['Unnamed: 0'] = df1['Unnamed: 0'].replace({2001:1, 2002:2, 2003:3, 2004:4, 2005:5, 2006:6})\n",
    "df1['Unnamed: 0'].unique()"
   ]
  },
  {
   "cell_type": "code",
   "execution_count": 8,
   "id": "914adf4a-69a6-4287-a979-25730a779f84",
   "metadata": {},
   "outputs": [
    {
     "data": {
      "text/plain": [
       "array([1003., 1005., 1004., 1002., 1001.])"
      ]
     },
     "execution_count": 8,
     "metadata": {},
     "output_type": "execute_result"
    }
   ],
   "source": [
    "df1[\"Mentor_ID\"].unique()"
   ]
  },
  {
   "cell_type": "code",
   "execution_count": 9,
   "id": "59c14e98-1f1d-43ce-972a-aa4cd9223f59",
   "metadata": {},
   "outputs": [
    {
     "data": {
      "text/plain": [
       "array(['Sarah Clark', 'Emily Davis', 'James Wilson', 'David Thompson',\n",
       "       'Michael Lee'], dtype=object)"
      ]
     },
     "execution_count": 9,
     "metadata": {},
     "output_type": "execute_result"
    }
   ],
   "source": [
    "df1[\"Mentor_Name\"].unique()"
   ]
  },
  {
   "cell_type": "code",
   "execution_count": 10,
   "id": "50699c2d-d672-420a-ad38-0be078057e77",
   "metadata": {},
   "outputs": [],
   "source": [
    "# Mapping mentor IDs to mentor names\n",
    "ID_mapping  = {\n",
    "'David Thompson': 1001,\n",
    "'Emily Davis': 1002,\n",
    "'James Wilson': 1003,\n",
    "'Michael Lee': 1004,\n",
    "'Sarah Clark': 1005\n",
    "}\n",
    "\n",
    "for name, id in ID_mapping.items():\n",
    "    df1.loc[df1[\"Mentor_Name\"] == name, \"Mentor_ID\"] = id"
   ]
  },
  {
   "cell_type": "code",
   "execution_count": 11,
   "id": "dbd4a9b6-b2f2-446a-ac05-4bf908bb5a40",
   "metadata": {},
   "outputs": [
    {
     "data": {
      "text/plain": [
       "array(['Bob Brown', 'Carol White', 'Jane Smith', 'John Doe',\n",
       "       'Alice Johnson'], dtype=object)"
      ]
     },
     "execution_count": 11,
     "metadata": {},
     "output_type": "execute_result"
    }
   ],
   "source": [
    "df1['Mentee_Name'].unique()"
   ]
  },
  {
   "cell_type": "code",
   "execution_count": 12,
   "id": "d61893d1-0f2e-4472-b6df-c3a80f95d576",
   "metadata": {},
   "outputs": [
    {
     "data": {
      "text/plain": [
       "array([  1.,   2.,   3.,   4.,   5.,  13.,  16.,   6.,  22.,  24.,  25.,\n",
       "        28.,  30.,  34.,  19.,  38.,  39.,  41.,  44.,  55.,  62.,  64.,\n",
       "        65.,  68.,  70.,  71.,  74.,  75.,  80.,  84.,  85.,  89.,  90.,\n",
       "        96.,  98., 100.,  54.,  46.,  45.])"
      ]
     },
     "execution_count": 12,
     "metadata": {},
     "output_type": "execute_result"
    }
   ],
   "source": [
    "df1['Unnamed: 0'].unique()"
   ]
  },
  {
   "cell_type": "code",
   "execution_count": 13,
   "id": "05129e98-965d-4ff5-97b1-fb9bb83be2c1",
   "metadata": {},
   "outputs": [
    {
     "data": {
      "text/html": [
       "<div>\n",
       "<style scoped>\n",
       "    .dataframe tbody tr th:only-of-type {\n",
       "        vertical-align: middle;\n",
       "    }\n",
       "\n",
       "    .dataframe tbody tr th {\n",
       "        vertical-align: top;\n",
       "    }\n",
       "\n",
       "    .dataframe thead th {\n",
       "        text-align: right;\n",
       "    }\n",
       "</style>\n",
       "<table border=\"1\" class=\"dataframe\">\n",
       "  <thead>\n",
       "    <tr style=\"text-align: right;\">\n",
       "      <th></th>\n",
       "      <th>Unnamed: 0</th>\n",
       "      <th>Mentor_ID</th>\n",
       "      <th>Mentor_Name</th>\n",
       "      <th>Mentee_Name</th>\n",
       "      <th>Session_Number</th>\n",
       "      <th>Session_Duration_Min</th>\n",
       "      <th>Job_Info_Completed</th>\n",
       "      <th>Session_Date</th>\n",
       "      <th>Points_Awarded</th>\n",
       "    </tr>\n",
       "  </thead>\n",
       "  <tbody>\n",
       "    <tr>\n",
       "      <th>0</th>\n",
       "      <td>1.0</td>\n",
       "      <td>1005.0</td>\n",
       "      <td>Sarah Clark</td>\n",
       "      <td>Bob Brown</td>\n",
       "      <td>1.0</td>\n",
       "      <td>40.0</td>\n",
       "      <td>Yes</td>\n",
       "      <td>2023-01-01</td>\n",
       "      <td>NaN</td>\n",
       "    </tr>\n",
       "    <tr>\n",
       "      <th>1</th>\n",
       "      <td>2.0</td>\n",
       "      <td>1002.0</td>\n",
       "      <td>Emily Davis</td>\n",
       "      <td>Carol White</td>\n",
       "      <td>2.0</td>\n",
       "      <td>30.0</td>\n",
       "      <td>Yes</td>\n",
       "      <td>2023-01-08</td>\n",
       "      <td>NaN</td>\n",
       "    </tr>\n",
       "    <tr>\n",
       "      <th>2</th>\n",
       "      <td>3.0</td>\n",
       "      <td>1003.0</td>\n",
       "      <td>James Wilson</td>\n",
       "      <td>Jane Smith</td>\n",
       "      <td>2.0</td>\n",
       "      <td>40.0</td>\n",
       "      <td>Yes</td>\n",
       "      <td>2023-01-15</td>\n",
       "      <td>NaN</td>\n",
       "    </tr>\n",
       "    <tr>\n",
       "      <th>4</th>\n",
       "      <td>1.0</td>\n",
       "      <td>1002.0</td>\n",
       "      <td>Emily Davis</td>\n",
       "      <td>Bob Brown</td>\n",
       "      <td>1.0</td>\n",
       "      <td>30.0</td>\n",
       "      <td>No</td>\n",
       "      <td>2023-01-29</td>\n",
       "      <td>NaN</td>\n",
       "    </tr>\n",
       "    <tr>\n",
       "      <th>5</th>\n",
       "      <td>3.0</td>\n",
       "      <td>1001.0</td>\n",
       "      <td>David Thompson</td>\n",
       "      <td>Jane Smith</td>\n",
       "      <td>2.0</td>\n",
       "      <td>50.0</td>\n",
       "      <td>No</td>\n",
       "      <td>2023-02-05</td>\n",
       "      <td>NaN</td>\n",
       "    </tr>\n",
       "  </tbody>\n",
       "</table>\n",
       "</div>"
      ],
      "text/plain": [
       "   Unnamed: 0  Mentor_ID     Mentor_Name  Mentee_Name  Session_Number  \\\n",
       "0         1.0     1005.0     Sarah Clark    Bob Brown             1.0   \n",
       "1         2.0     1002.0     Emily Davis  Carol White             2.0   \n",
       "2         3.0     1003.0    James Wilson   Jane Smith             2.0   \n",
       "4         1.0     1002.0     Emily Davis    Bob Brown             1.0   \n",
       "5         3.0     1001.0  David Thompson   Jane Smith             2.0   \n",
       "\n",
       "   Session_Duration_Min Job_Info_Completed Session_Date  Points_Awarded  \n",
       "0                  40.0                Yes   2023-01-01             NaN  \n",
       "1                  30.0                Yes   2023-01-08             NaN  \n",
       "2                  40.0                Yes   2023-01-15             NaN  \n",
       "4                  30.0                 No   2023-01-29             NaN  \n",
       "5                  50.0                 No   2023-02-05             NaN  "
      ]
     },
     "execution_count": 13,
     "metadata": {},
     "output_type": "execute_result"
    }
   ],
   "source": [
    "# Mapping mentee IDs to mentee names\n",
    "mentee_id = {\n",
    "'Bob Brown': 1.0,\n",
    "'Carol White': 2.0,\n",
    "'Jane Smith': 3.0,\n",
    "'John Doe': 4.0,\n",
    "'Alice Johnson': 5.0\n",
    "}\n",
    "\n",
    "for name, id in mentee_id.items():\n",
    "    df1.loc[df1[\"Mentee_Name\"] == name, \"Unnamed: 0\"] = id\n",
    "df1.head()"
   ]
  },
  {
   "cell_type": "code",
   "execution_count": 14,
   "id": "a9cf296f-f627-4284-aeda-4c1112671ebb",
   "metadata": {},
   "outputs": [
    {
     "data": {
      "text/html": [
       "<div>\n",
       "<style scoped>\n",
       "    .dataframe tbody tr th:only-of-type {\n",
       "        vertical-align: middle;\n",
       "    }\n",
       "\n",
       "    .dataframe tbody tr th {\n",
       "        vertical-align: top;\n",
       "    }\n",
       "\n",
       "    .dataframe thead th {\n",
       "        text-align: right;\n",
       "    }\n",
       "</style>\n",
       "<table border=\"1\" class=\"dataframe\">\n",
       "  <thead>\n",
       "    <tr style=\"text-align: right;\">\n",
       "      <th></th>\n",
       "      <th>Mentee_ID</th>\n",
       "      <th>Mentor_ID</th>\n",
       "      <th>Mentor_Name</th>\n",
       "      <th>Mentee_Name</th>\n",
       "      <th>Session_Number</th>\n",
       "      <th>Session_Duration_Min</th>\n",
       "      <th>Job_Info_Completed</th>\n",
       "      <th>Session_Date</th>\n",
       "      <th>Points_Awarded</th>\n",
       "    </tr>\n",
       "  </thead>\n",
       "  <tbody>\n",
       "    <tr>\n",
       "      <th>0</th>\n",
       "      <td>1.0</td>\n",
       "      <td>1005.0</td>\n",
       "      <td>Sarah Clark</td>\n",
       "      <td>Bob Brown</td>\n",
       "      <td>1.0</td>\n",
       "      <td>40.0</td>\n",
       "      <td>Yes</td>\n",
       "      <td>2023-01-01</td>\n",
       "      <td>NaN</td>\n",
       "    </tr>\n",
       "    <tr>\n",
       "      <th>1</th>\n",
       "      <td>2.0</td>\n",
       "      <td>1002.0</td>\n",
       "      <td>Emily Davis</td>\n",
       "      <td>Carol White</td>\n",
       "      <td>2.0</td>\n",
       "      <td>30.0</td>\n",
       "      <td>Yes</td>\n",
       "      <td>2023-01-08</td>\n",
       "      <td>NaN</td>\n",
       "    </tr>\n",
       "    <tr>\n",
       "      <th>2</th>\n",
       "      <td>3.0</td>\n",
       "      <td>1003.0</td>\n",
       "      <td>James Wilson</td>\n",
       "      <td>Jane Smith</td>\n",
       "      <td>2.0</td>\n",
       "      <td>40.0</td>\n",
       "      <td>Yes</td>\n",
       "      <td>2023-01-15</td>\n",
       "      <td>NaN</td>\n",
       "    </tr>\n",
       "    <tr>\n",
       "      <th>4</th>\n",
       "      <td>1.0</td>\n",
       "      <td>1002.0</td>\n",
       "      <td>Emily Davis</td>\n",
       "      <td>Bob Brown</td>\n",
       "      <td>1.0</td>\n",
       "      <td>30.0</td>\n",
       "      <td>No</td>\n",
       "      <td>2023-01-29</td>\n",
       "      <td>NaN</td>\n",
       "    </tr>\n",
       "    <tr>\n",
       "      <th>5</th>\n",
       "      <td>3.0</td>\n",
       "      <td>1001.0</td>\n",
       "      <td>David Thompson</td>\n",
       "      <td>Jane Smith</td>\n",
       "      <td>2.0</td>\n",
       "      <td>50.0</td>\n",
       "      <td>No</td>\n",
       "      <td>2023-02-05</td>\n",
       "      <td>NaN</td>\n",
       "    </tr>\n",
       "  </tbody>\n",
       "</table>\n",
       "</div>"
      ],
      "text/plain": [
       "   Mentee_ID  Mentor_ID     Mentor_Name  Mentee_Name  Session_Number  \\\n",
       "0        1.0     1005.0     Sarah Clark    Bob Brown             1.0   \n",
       "1        2.0     1002.0     Emily Davis  Carol White             2.0   \n",
       "2        3.0     1003.0    James Wilson   Jane Smith             2.0   \n",
       "4        1.0     1002.0     Emily Davis    Bob Brown             1.0   \n",
       "5        3.0     1001.0  David Thompson   Jane Smith             2.0   \n",
       "\n",
       "   Session_Duration_Min Job_Info_Completed Session_Date  Points_Awarded  \n",
       "0                  40.0                Yes   2023-01-01             NaN  \n",
       "1                  30.0                Yes   2023-01-08             NaN  \n",
       "2                  40.0                Yes   2023-01-15             NaN  \n",
       "4                  30.0                 No   2023-01-29             NaN  \n",
       "5                  50.0                 No   2023-02-05             NaN  "
      ]
     },
     "execution_count": 14,
     "metadata": {},
     "output_type": "execute_result"
    }
   ],
   "source": [
    "# Renaming column\n",
    "df1.rename(columns={'Unnamed: 0': 'Mentee_ID'}, inplace = True)\n",
    "df1.head()"
   ]
  },
  {
   "cell_type": "markdown",
   "id": "fe5483c8-a8e2-490e-bc3c-dd0a4892cdb0",
   "metadata": {
    "jp-MarkdownHeadingCollapsed": true
   },
   "source": [
    "### Brief Report\n",
    "The purpose of this report is to detail the process, tools, and findings of cleaning the \"Mentorship_Sessions\" dataset. The dataset contains information about mentorship sessions, but due to data inconsistencies and duplicates, it was impacting the accurate allocation of rewards to graduates and learners. This report highlights the steps taken to ensure the data is accurate, clean, and ready for analysis\n",
    "\n",
    "**Tools Used:**\n",
    "- Python (Pandas Library): Automated data cleaning, handling large datasets efficiently, and running data quality checks.\n",
    "\n",
    "**Data Cleaning Process:**\n",
    "1. **Inspecting Data:** The first step was to inspect the dataset for any immediate irregularities, such as missing values, formatting errors, or duplicate records. Using pandas info and describe function, I manually reviewed columns for empty cells and obvious outliers. This step heped in understanding the structure of data and identifying patterns of errors.\n",
    "2. **Handling Missing Data:**  I noticed irregularities in the shape of the 'Mentee_Name' and 'Session_Duration_Min' columns when the non-null values where provided. The irregularity was addressed by dropping all null values within those columns, 3 entries were dropped.\n",
    "3. **Correcting Inconsistencies:**\n",
    "Several inconsistencies were found, particularly in date formats and mentor names. Outliers were noted in the values of the 'Unnamed: 0' column. There was no linearity in the relationship between columns representing names and their IDs.  The 'Unnamed: 0' column is improperly named. The irregularities mentioned above were addressed by \n",
    "\n",
    "    - Correcting Inconsistencies.\n",
    "    - Checking for duplicate entries.\n",
    "\n",
    "**Conclusion:** The data is now accurate and ready for use in further analysis and reporting."
   ]
  },
  {
   "cell_type": "markdown",
   "id": "613c817e-6ad8-4b83-9d18-ead8be430e19",
   "metadata": {},
   "source": [
    "## Task 2"
   ]
  },
  {
   "cell_type": "code",
   "execution_count": 15,
   "id": "4bbe5c15-a477-405f-9135-feb24381992a",
   "metadata": {},
   "outputs": [
    {
     "data": {
      "text/html": [
       "<div>\n",
       "<style scoped>\n",
       "    .dataframe tbody tr th:only-of-type {\n",
       "        vertical-align: middle;\n",
       "    }\n",
       "\n",
       "    .dataframe tbody tr th {\n",
       "        vertical-align: top;\n",
       "    }\n",
       "\n",
       "    .dataframe thead th {\n",
       "        text-align: right;\n",
       "    }\n",
       "</style>\n",
       "<table border=\"1\" class=\"dataframe\">\n",
       "  <thead>\n",
       "    <tr style=\"text-align: right;\">\n",
       "      <th></th>\n",
       "      <th>Mentor_id</th>\n",
       "      <th>Points_Earned</th>\n",
       "    </tr>\n",
       "  </thead>\n",
       "  <tbody>\n",
       "    <tr>\n",
       "      <th>0</th>\n",
       "      <td>1005.0</td>\n",
       "      <td>2250</td>\n",
       "    </tr>\n",
       "    <tr>\n",
       "      <th>1</th>\n",
       "      <td>1002.0</td>\n",
       "      <td>2250</td>\n",
       "    </tr>\n",
       "    <tr>\n",
       "      <th>2</th>\n",
       "      <td>1003.0</td>\n",
       "      <td>2000</td>\n",
       "    </tr>\n",
       "    <tr>\n",
       "      <th>3</th>\n",
       "      <td>1001.0</td>\n",
       "      <td>2500</td>\n",
       "    </tr>\n",
       "    <tr>\n",
       "      <th>4</th>\n",
       "      <td>1004.0</td>\n",
       "      <td>2750</td>\n",
       "    </tr>\n",
       "  </tbody>\n",
       "</table>\n",
       "</div>"
      ],
      "text/plain": [
       "   Mentor_id  Points_Earned\n",
       "0     1005.0           2250\n",
       "1     1002.0           2250\n",
       "2     1003.0           2000\n",
       "3     1001.0           2500\n",
       "4     1004.0           2750"
      ]
     },
     "execution_count": 15,
     "metadata": {},
     "output_type": "execute_result"
    }
   ],
   "source": [
    "#Initializing a dataframe to store the final points for each mentor\n",
    "Ment_id = df1['Mentor_ID'].unique()\n",
    "mentor_points = pd.DataFrame(Ment_id, columns=['Mentor_id'])\n",
    "mentor_points['Points_Earned'] = 0\n",
    "\n",
    "# Function to calculate points\n",
    "def calculate_points(df1, mentor):\n",
    "    points = 250  # Initializing points for mentor\n",
    "    mentor_df = df1[df1['Mentor_ID'] == mentor]\n",
    "    \n",
    "    # Create a mentee groups to ensure points are calculated for each mentee\n",
    "    mentee_groups = mentor_df.groupby('Mentee_ID')\n",
    "\n",
    "    for _, mentee_sessions in mentee_groups:\n",
    "        # Create a condition for at least 2 sessions with both 30 minutes or longer\n",
    "        valid_sessions = mentee_sessions[mentee_sessions['Session_Duration_Min'] >= 30]\n",
    "        if len(valid_sessions) >= 2:\n",
    "            # Check if job info was provided in at least one session\n",
    "            job_info_provided = 'Yes' in mentee_sessions['Job_Info_Completed'].values\n",
    "            if job_info_provided:\n",
    "                points += 500  # Full 500 points for a complete mentorship cycle\n",
    "            else:\n",
    "                points += 250  # Partial points for mentorship without job info\n",
    "\n",
    "    return points\n",
    "\n",
    "# Calculate points for each mentor\n",
    "mentor_points['Points_Earned'] = mentor_points['Mentor_id'].apply(lambda mentor: calculate_points(df1, mentor))\n",
    "\n",
    "mentor_points\n"
   ]
  },
  {
   "cell_type": "code",
   "execution_count": 16,
   "id": "f3f2c387-0641-4c2e-aae3-379f4b23dc18",
   "metadata": {},
   "outputs": [
    {
     "data": {
      "text/html": [
       "<div>\n",
       "<style scoped>\n",
       "    .dataframe tbody tr th:only-of-type {\n",
       "        vertical-align: middle;\n",
       "    }\n",
       "\n",
       "    .dataframe tbody tr th {\n",
       "        vertical-align: top;\n",
       "    }\n",
       "\n",
       "    .dataframe thead th {\n",
       "        text-align: right;\n",
       "    }\n",
       "</style>\n",
       "<table border=\"1\" class=\"dataframe\">\n",
       "  <thead>\n",
       "    <tr style=\"text-align: right;\">\n",
       "      <th></th>\n",
       "      <th>Mentor_id</th>\n",
       "      <th>Points_Earned</th>\n",
       "      <th>Mentor_Name</th>\n",
       "    </tr>\n",
       "  </thead>\n",
       "  <tbody>\n",
       "    <tr>\n",
       "      <th>0</th>\n",
       "      <td>1005.0</td>\n",
       "      <td>2250</td>\n",
       "      <td>Sarah Clark</td>\n",
       "    </tr>\n",
       "    <tr>\n",
       "      <th>1</th>\n",
       "      <td>1002.0</td>\n",
       "      <td>2250</td>\n",
       "      <td>Emily Davis</td>\n",
       "    </tr>\n",
       "    <tr>\n",
       "      <th>2</th>\n",
       "      <td>1003.0</td>\n",
       "      <td>2000</td>\n",
       "      <td>James Wilson</td>\n",
       "    </tr>\n",
       "    <tr>\n",
       "      <th>3</th>\n",
       "      <td>1001.0</td>\n",
       "      <td>2500</td>\n",
       "      <td>David Thompson</td>\n",
       "    </tr>\n",
       "    <tr>\n",
       "      <th>4</th>\n",
       "      <td>1004.0</td>\n",
       "      <td>2750</td>\n",
       "      <td>Michael Lee</td>\n",
       "    </tr>\n",
       "  </tbody>\n",
       "</table>\n",
       "</div>"
      ],
      "text/plain": [
       "   Mentor_id  Points_Earned     Mentor_Name\n",
       "0     1005.0           2250     Sarah Clark\n",
       "1     1002.0           2250     Emily Davis\n",
       "2     1003.0           2000    James Wilson\n",
       "3     1001.0           2500  David Thompson\n",
       "4     1004.0           2750     Michael Lee"
      ]
     },
     "execution_count": 16,
     "metadata": {},
     "output_type": "execute_result"
    }
   ],
   "source": [
    "mentor_points['Mentor_Name'] = df1['Mentor_Name'].unique()\n",
    "mentor_points"
   ]
  },
  {
   "cell_type": "markdown",
   "id": "cf1fbd2f-e3b2-4286-aa2e-96f709534eab",
   "metadata": {},
   "source": [
    "### Brief Report\n",
    "This report details the process, tools,and findings of point allocation for the \"Mentorship_Sessions\" dataset.\n",
    "\n",
    "**Tools Used:**\n",
    "- Python (Pandas): For data manipulation and point calculation.\n",
    "\n",
    "**Process Overview:**\n",
    "\n",
    "1. **Data Cleaning and Preparation:** The dataset was cleaned and irregular or errenous entries were filtered out.\n",
    "\n",
    "2. **Criteria Review:**\n",
    "    - Mentors earn 250 points for signing up (one-time allocation).\n",
    "    - Mentors earn 1000 points for conducting mentorship with 2 different mentees.\n",
    "    - Mentors earn 500 points per mentorship relationship, with points awarded based on: 250 points per session.\n",
    "    - A maximum of 500 points per mentee after completing two sessions.\n",
    "    - At least one session must include the completion of job information.\n",
    "    - Each session must be a minimum of 30 minutes in length.\n",
    "\n",
    "3.  **Calculation Explanation:** For each mentor, the following logic was applied:\n",
    "    - A new dataframe was created to store the mentor's id and their respective points allocation.\n",
    "    - A function was created to calculate the points while having the initial points for a unique id at 250.\n",
    "    - I grouped each unique ids based on the mentee ids.\n",
    "    - I created a for loop with conditions stating that while 2 sessions both run for at least 30 minutes or longer, if the number of sessions are greater than or equal to two while job info is provided, 500 points are awarded, else, 250 points. \n",
    "\n",
    "**Conclusion:** The point allocation was successfully completed using a structured and tested approach. Mentors were rewarded based on the rules provided, and the system accurately reflected their contributions to the mentorship program."
   ]
  },
  {
   "cell_type": "markdown",
   "id": "38274df1-9525-464f-be64-d187230304e8",
   "metadata": {},
   "source": [
    "## Task 3"
   ]
  },
  {
   "cell_type": "code",
   "execution_count": 22,
   "id": "5dd09ce9-ae51-4a7b-ae63-2ad86c5a8668",
   "metadata": {},
   "outputs": [
    {
     "data": {
      "image/png": "[encoded data removed]",
      "text/plain": [
       "<Figure size 1000x500 with 2 Axes>"
      ]
     },
     "metadata": {},
     "output_type": "display_data"
    }
   ],
   "source": [
    "fig, axs = plt.subplots(1, 2, figsize=(10, 5))  \n",
    "\n",
    "# First plot on the first axis\n",
    "Mentee_min = df1.groupby(['Mentor_Name'])['Session_Duration_Min'].sum()\n",
    "Mentee_min.plot(kind='bar', edgecolor='black', ax=axs[0], title='TOTAL MINUTES BY MENTOR')\n",
    "\n",
    "# Second plot on the second axis\n",
    "Total_min = df1.groupby(['Mentor_Name', 'Mentee_Name'])['Session_Duration_Min'].sum().unstack()\n",
    "Total_min.plot(kind='bar', edgecolor='black', ax=axs[1], title='TOTAL MINUTES BY MENTOR PER MENTEE')\n",
    "\n",
    "# Show the figure\n",
    "plt.legend(bbox_to_anchor=(1.05, 1), loc='upper left')\n",
    "plt.tight_layout()\n",
    "plt.show()\n"
   ]
  },
  {
   "cell_type": "code",
   "execution_count": 24,
   "id": "f678634a-a7ed-4c3d-ac6b-3ca270dfd2bc",
   "metadata": {},
   "outputs": [
    {
     "data": {
      "image/png": "[encoded data removed]",
      "text/plain": [
       "<Figure size 1000x500 with 2 Axes>"
      ]
     },
     "metadata": {},
     "output_type": "display_data"
    }
   ],
   "source": [
    "fig, axs = plt.subplots(1, 2, figsize=(10, 5))  \n",
    "\n",
    "# First plot on the first axis\n",
    "Mentee_min = df1.groupby(['Mentor_Name'])['Session_Duration_Min'].sum()\n",
    "Mentee_min.plot(kind='bar', edgecolor='black', ax=axs[0], title='TOTAL NUMBER OF MINUTES SPENT BY MENTOR')\n",
    "\n",
    "# Second plot on the second axis\n",
    "mentor_points.plot('Mentor_Name', 'Points_Earned', kind='bar', edgecolor='black', ax=axs[1], title='TOTAL POINTS EARNED BY MENTOR')\n",
    "\n",
    "# Show the figure\n",
    "plt.tight_layout()\n",
    "plt.show()"
   ]
  },
  {
   "cell_type": "code",
   "execution_count": 25,
   "id": "0743dbe9-38e1-42de-bd6b-bda8c9a8ac68",
   "metadata": {},
   "outputs": [
    {
     "data": {
      "image/png": "[encoded data removed]",
      "text/plain": [
       "<Figure size 1000x500 with 2 Axes>"
      ]
     },
     "metadata": {},
     "output_type": "display_data"
    }
   ],
   "source": [
    "fig, axs = plt.subplots(1, 2, figsize=(10, 5))  \n",
    "\n",
    "# First plot on the first axis\n",
    "Session_num = df1.groupby(['Mentor_Name'])['Session_Number'].count()#.unstack()\n",
    "Session_num.plot(kind='bar', edgecolor='black', figsize=(10, 5), ax=axs[0], title='NUMBER OF SESSIONS PER MENTOR')\n",
    "\n",
    "# Second plot on the second axis\n",
    "mentor_points.plot('Mentor_Name', 'Points_Earned', kind='bar', edgecolor='black', ax=axs[1], title='TOTAL POINTS EARNED BY MENTOR')\n",
    "\n",
    "# Show the figure\n",
    "plt.tight_layout()\n",
    "plt.show()"
   ]
  },
  {
   "cell_type": "code",
   "execution_count": 34,
   "id": "65e830a4-347d-4b55-a56a-65066469d715",
   "metadata": {},
   "outputs": [
    {
     "data": {
      "image/png": "[encoded data removed]",
      "text/plain": [
       "<Figure size 1000x500 with 2 Axes>"
      ]
     },
     "metadata": {},
     "output_type": "display_data"
    }
   ],
   "source": [
    "fig, axs = plt.subplots(1, 2, figsize=(10, 5))  \n",
    "\n",
    "# First plot on the first axis\n",
    "Session_num = df1.groupby(['Mentor_Name'])['Job_Info_Completed'].value_counts().unstack()\n",
    "Session_num.plot(kind='bar', edgecolor='black', figsize=(10, 5), ax=axs[0], title='NUMBER OF JOB INFO COMPLETED BY MENTOR')\n",
    "\n",
    "\n",
    "# Second plot on the second axis\n",
    "mentor_points.plot('Mentor_Name', 'Points_Earned', kind='bar', edgecolor='black', ax=axs[1], title='TOTAL POINTS EARNED BY MENTOR')\n",
    "\n",
    "# Show the figure\n",
    "plt.tight_layout()\n",
    "plt.show()"
   ]
  },
  {
   "cell_type": "code",
   "execution_count": null,
   "id": "1c8c15c3-869b-4283-a07f-80376075ac74",
   "metadata": {},
   "outputs": [],
   "source": []
  }
 ],
 "metadata": {
  "kernelspec": {
   "display_name": "Python 3 (ipykernel)",
   "language": "python",
   "name": "python3"
  },
  "language_info": {
   "codemirror_mode": {
    "name": "ipython",
    "version": 3
   },
   "file_extension": ".py",
   "mimetype": "text/x-python",
   "name": "python",
   "nbconvert_exporter": "python",
   "pygments_lexer": "ipython3",
   "version": "3.9.18"
  }
 },
 "nbformat": 4,
 "nbformat_minor": 5
}
